{
 "cells": [
  {
   "cell_type": "code",
   "execution_count": 7,
   "id": "d8b4884e-42c4-4018-913b-84fedb4a2f15",
   "metadata": {},
   "outputs": [],
   "source": []
  },
  {
   "cell_type": "code",
   "execution_count": 28,
   "id": "2ef43411-404f-4b11-b91f-f59849ef232e",
   "metadata": {},
   "outputs": [],
   "source": [
    "import pandas as pd\n",
    "import numpy as np\n",
    "\n",
    "# Filter all warnings. If you would like to see the warnings, please comment the two lines below.\n",
    "import warnings\n",
    "warnings.filterwarnings('ignore')"
   ]
  },
  {
   "cell_type": "code",
   "execution_count": 24,
   "id": "210145ba-a3f4-44cf-bbdd-96e3113bd97e",
   "metadata": {},
   "outputs": [],
   "source": [
    "def answer_two():\n",
    "        #Load xls file \n",
    "    xls_file = pd.ExcelFile('assets/Energy Indicators.xls')\n",
    "    energy = xls_file.parse(skiprows=17,skip_footer=(38))\n",
    "    energy = energy[['Unnamed: 1','Petajoules','Gigajoules','%']]\n",
    "    # Rename the columns\n",
    "    energy.columns = ['Country', 'Energy Supply', 'Energy Supply per Capita', '% Renewable']\n",
    "    # Convert \"...\" to np.NaN\n",
    "    energy[['Energy Supply', 'Energy Supply per Capita', '% Renewable']] =  energy[['Energy Supply', 'Energy Supply per Capita', '% Renewable']].replace('...',np.NaN).apply(pd.to_numeric)\n",
    "    #Conevrt Energy Supply to gigajoules (there are 1,000,000 gigajoules in a petajoule)\n",
    "    energy['Energy Supply'] = energy['Energy Supply']*1000000\n",
    "    #Rename Countries\n",
    "    energy['Country'] = energy['Country'].replace({\"Republic of Korea\": \"South Korea\", \"United States of America\": \"United States\",\n",
    "                                                   \"United Kingdom of Great Britain and Northern Ireland\": \"United Kingdom\", \n",
    "                                                   \"China, Hong Kong Special Administrative Region\": \"Hong Kong\"})\n",
    "    #Remove parantheses \n",
    "    energy['Country'] = energy['Country'].str.replace(r\" \\(.*\\)\",\"\")\n",
    "    \n",
    "    #GDP read_csv & Skip header & only include 10 last years \n",
    "    GDP = pd.read_csv('assets/world_bank.csv', skiprows=4)\n",
    "    #Rename Countries\n",
    "    GDP = GDP[['Country Name','2006','2007','2008','2009','2010','2011','2012','2013','2014','2015']]\n",
    "    GDP['Country Name'] = GDP['Country Name'].replace({\"Korea, Rep.\": \"South Korea\", \"Iran, Islamic Rep.\": \"Iran\", \n",
    "                                             \"Hong Kong SAR, China\": \"Hong Kong\"})\n",
    "    #Only inlcude 10 last years of GDP \n",
    "    GDP.columns = ['Country','2006','2007','2008','2009','2010','2011','2012','2013','2014','2015']\n",
    "    #Load scimagojr-3.xlsx\n",
    "    ScimEn = pd.read_excel(io='scimagojr-3.xlsx')\n",
    "        \n",
    "    #Join the three DataFrames on Country\n",
    "    ScimEn_Energy = pd.merge(ScimEn, energy, how='inner', left_on='Country', right_on='Country')\n",
    "    df_joint = pd.merge(ScimEn_Energy, GDP, how='inner', left_on='Country', right_on='Country')\n",
    "    df_joint = df_joint.set_index('Country')\n",
    "    df_joint_top = df_joint[:15]\n",
    "    \n",
    "    #The Actual answer is this, but (I guess) since the df_joint and df_joint_top were defined in the function answer_one() they \n",
    "    # were not defined here so I repeated all the code lines, But I think there should be something like 'global' to use the \n",
    "    # variables defined in other functions\n",
    "    return len(df_joint.index) - len(df_joint_top.index)"
   ]
  },
  {
   "cell_type": "code",
   "execution_count": 30,
   "id": "23910363-58d8-4391-b83b-272190b3e1df",
   "metadata": {},
   "outputs": [
    {
     "data": {
      "text/plain": [
       "158"
      ]
     },
     "execution_count": 30,
     "metadata": {},
     "output_type": "execute_result"
    }
   ],
   "source": [
    "answer_two()"
   ]
  },
  {
   "cell_type": "code",
   "execution_count": 29,
   "id": "04d80ce6-9e39-4f18-8e38-59ec9d1ff740",
   "metadata": {},
   "outputs": [],
   "source": [
    "def answer_two():\n",
    "    # YOUR CODE HERE\n",
    "    Energy = pd.read_excel('assets/Energy Indicators.xls', header = 15 , skipfooter = 38)\n",
    "    Energy.drop(columns = ['Unnamed: 0', 'Unnamed: 1'], inplace = True)\n",
    "    Energy = Energy.rename(columns ={'Unnamed: 2': 'Country', 'Unnamed: 3': 'Energy Supply', \n",
    "                            'Unnamed: 4':'Energy Supply per Capita', 'Unnamed: 5':'% Renewable'}).drop([0,1] ,axis =0)\n",
    "    Energy['Energy Supply'] = Energy['Energy Supply'].replace('...',np.NaN).apply(lambda x: x* 1000000)\n",
    "    Energy['Country'] = Energy['Country'].str.extract('([^\\d\\(\\)]+)', expand=False).str.strip()\n",
    "    Energy.replace({'Country':{\"Republic of Korea\": \"South Korea\", \n",
    "                           \"United States of America\": \"United States\", \n",
    "                           \"United Kingdom of Great Britain and Northern Ireland\": \"United Kingdom\",\n",
    "                           \"China, Hong Kong Special Administrative Region\": \"Hong Kong\"}},inplace =True)\n",
    "    \n",
    "    GDP = pd.read_csv('assets/world_bank.csv', header = 4)\n",
    "    GDP.replace({'Country Name':{\"Korea, Rep.\": \"South Korea\",  \"Iran, Islamic Rep.\": \"Iran\", \"Hong Kong SAR, China\": \"Hong Kong\"}}, inplace =True)\n",
    "    GDP.drop(columns = GDP.loc[:,'Country Code':'2005'], inplace =True)\n",
    "    GDP=GDP.rename(columns = {'Country Name':'Country'})\n",
    "    ScimEn = pd.read_excel('assets/scimagojr-3.xlsx')\n",
    "    \n",
    "    from functools import reduce\n",
    "    mergedata = [ScimEn,Energy,GDP]\n",
    "    findata = reduce(lambda left, right: pd.merge(left, right, on=['Country'], how = 'inner'), mergedata)\n",
    "    findata.set_index('Country', inplace =True)\n",
    "    \n",
    "    from functools import reduce\n",
    "    mergedata = [ScimEn,Energy,GDP]\n",
    "    outdata = reduce(lambda left, right: pd.merge(left, right, on=['Country'], how = 'outer'), mergedata)\n",
    "    outdata.set_index('Country', inplace =True)\n",
    "    \n",
    "    return int(len(outdata.index)-len(findata.index))"
   ]
  },
  {
   "cell_type": "code",
   "execution_count": null,
   "id": "dbce6ef8-d8c0-4a5e-b943-c987ac01dea9",
   "metadata": {},
   "outputs": [],
   "source": []
  },
  {
   "cell_type": "code",
   "execution_count": null,
   "id": "0cc2a82d-6197-4590-a779-eeedfb6eaf30",
   "metadata": {},
   "outputs": [],
   "source": []
  }
 ],
 "metadata": {
  "kernelspec": {
   "display_name": "Python 3 (ipykernel)",
   "language": "python",
   "name": "python3"
  },
  "language_info": {
   "codemirror_mode": {
    "name": "ipython",
    "version": 3
   },
   "file_extension": ".py",
   "mimetype": "text/x-python",
   "name": "python",
   "nbconvert_exporter": "python",
   "pygments_lexer": "ipython3",
   "version": "3.9.13"
  }
 },
 "nbformat": 4,
 "nbformat_minor": 5
}
