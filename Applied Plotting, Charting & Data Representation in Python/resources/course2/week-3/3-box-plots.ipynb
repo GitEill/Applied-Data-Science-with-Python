{
 "cells": [
  {
   "cell_type": "markdown",
   "metadata": {},
   "source": [
    "# Box and Whisker Plots"
   ]
  },
  {
   "cell_type": "markdown",
   "metadata": {},
   "source": [
    "A box plot, sometimes called a box-and-whisker plot, is a method of showing aggregate statistics of various samples in a concise matter. The goal of the boxplot is to summarize the distribution of your data through a visualization of what's called the 5-number-summary: the extremes - often the minimum and maximum values, the center, usually the median of the data, and the first and third quartiles of your the data. The quartiles of your data break it into four roughly similar sized buckets, and so the first and third quartile markers -- sometimes called hinges -- show you the middle 50% of your data. Through the box plot we can get a sense of the weighting of the data in a fairly compact visual representation. Let's take a look."
   ]
  },
  {
   "cell_type": "code",
   "execution_count": 1,
   "metadata": {},
   "outputs": [
    {
     "data": {
      "text/html": [
       "<div>\n",
       "<style scoped>\n",
       "    .dataframe tbody tr th:only-of-type {\n",
       "        vertical-align: middle;\n",
       "    }\n",
       "\n",
       "    .dataframe tbody tr th {\n",
       "        vertical-align: top;\n",
       "    }\n",
       "\n",
       "    .dataframe thead th {\n",
       "        text-align: right;\n",
       "    }\n",
       "</style>\n",
       "<table border=\"1\" class=\"dataframe\">\n",
       "  <thead>\n",
       "    <tr style=\"text-align: right;\">\n",
       "      <th></th>\n",
       "      <th>normal</th>\n",
       "      <th>random</th>\n",
       "      <th>gamma</th>\n",
       "    </tr>\n",
       "  </thead>\n",
       "  <tbody>\n",
       "    <tr>\n",
       "      <th>0</th>\n",
       "      <td>-0.924003</td>\n",
       "      <td>0.391036</td>\n",
       "      <td>1.482086</td>\n",
       "    </tr>\n",
       "    <tr>\n",
       "      <th>1</th>\n",
       "      <td>0.260360</td>\n",
       "      <td>0.496609</td>\n",
       "      <td>1.844914</td>\n",
       "    </tr>\n",
       "    <tr>\n",
       "      <th>2</th>\n",
       "      <td>0.391763</td>\n",
       "      <td>0.266250</td>\n",
       "      <td>3.836854</td>\n",
       "    </tr>\n",
       "    <tr>\n",
       "      <th>3</th>\n",
       "      <td>-1.099582</td>\n",
       "      <td>0.368843</td>\n",
       "      <td>1.973050</td>\n",
       "    </tr>\n",
       "    <tr>\n",
       "      <th>4</th>\n",
       "      <td>0.826007</td>\n",
       "      <td>0.433924</td>\n",
       "      <td>0.668210</td>\n",
       "    </tr>\n",
       "    <tr>\n",
       "      <th>...</th>\n",
       "      <td>...</td>\n",
       "      <td>...</td>\n",
       "      <td>...</td>\n",
       "    </tr>\n",
       "    <tr>\n",
       "      <th>9995</th>\n",
       "      <td>0.999963</td>\n",
       "      <td>0.080515</td>\n",
       "      <td>0.628999</td>\n",
       "    </tr>\n",
       "    <tr>\n",
       "      <th>9996</th>\n",
       "      <td>0.269449</td>\n",
       "      <td>0.820617</td>\n",
       "      <td>0.685029</td>\n",
       "    </tr>\n",
       "    <tr>\n",
       "      <th>9997</th>\n",
       "      <td>-0.170039</td>\n",
       "      <td>0.435392</td>\n",
       "      <td>3.030553</td>\n",
       "    </tr>\n",
       "    <tr>\n",
       "      <th>9998</th>\n",
       "      <td>-0.504575</td>\n",
       "      <td>0.716286</td>\n",
       "      <td>0.041463</td>\n",
       "    </tr>\n",
       "    <tr>\n",
       "      <th>9999</th>\n",
       "      <td>-1.340741</td>\n",
       "      <td>0.014313</td>\n",
       "      <td>0.623139</td>\n",
       "    </tr>\n",
       "  </tbody>\n",
       "</table>\n",
       "<p>10000 rows × 3 columns</p>\n",
       "</div>"
      ],
      "text/plain": [
       "        normal    random     gamma\n",
       "0    -0.924003  0.391036  1.482086\n",
       "1     0.260360  0.496609  1.844914\n",
       "2     0.391763  0.266250  3.836854\n",
       "3    -1.099582  0.368843  1.973050\n",
       "4     0.826007  0.433924  0.668210\n",
       "...        ...       ...       ...\n",
       "9995  0.999963  0.080515  0.628999\n",
       "9996  0.269449  0.820617  0.685029\n",
       "9997 -0.170039  0.435392  3.030553\n",
       "9998 -0.504575  0.716286  0.041463\n",
       "9999 -1.340741  0.014313  0.623139\n",
       "\n",
       "[10000 rows x 3 columns]"
      ]
     },
     "execution_count": 1,
     "metadata": {},
     "output_type": "execute_result"
    }
   ],
   "source": [
    "# First we'll bring in our libraries\n",
    "import pandas as pd\n",
    "import matplotlib.pyplot as plt\n",
    "import numpy as np\n",
    "\n",
    "# Now let's create three different samples from NumPy - One for the normal distribution,\n",
    "# one for random, and one from a gamma distribution. \n",
    "\n",
    "normal_sample = np.random.normal(loc=0.0, scale=1.0, size=10000)\n",
    "random_sample = np.random.random(size=10000)\n",
    "gamma_sample = np.random.gamma(2, size=10000)\n",
    "\n",
    "# Next, let's put those in a pandas DataFrame.\n",
    "df = pd.DataFrame({'normal': normal_sample, \n",
    "                   'random': random_sample, \n",
    "                   'gamma': gamma_sample})\n",
    "df"
   ]
  },
  {
   "cell_type": "code",
   "execution_count": 2,
   "metadata": {},
   "outputs": [
    {
     "data": {
      "text/html": [
       "<div>\n",
       "<style scoped>\n",
       "    .dataframe tbody tr th:only-of-type {\n",
       "        vertical-align: middle;\n",
       "    }\n",
       "\n",
       "    .dataframe tbody tr th {\n",
       "        vertical-align: top;\n",
       "    }\n",
       "\n",
       "    .dataframe thead th {\n",
       "        text-align: right;\n",
       "    }\n",
       "</style>\n",
       "<table border=\"1\" class=\"dataframe\">\n",
       "  <thead>\n",
       "    <tr style=\"text-align: right;\">\n",
       "      <th></th>\n",
       "      <th>normal</th>\n",
       "      <th>random</th>\n",
       "      <th>gamma</th>\n",
       "    </tr>\n",
       "  </thead>\n",
       "  <tbody>\n",
       "    <tr>\n",
       "      <th>count</th>\n",
       "      <td>10000.000000</td>\n",
       "      <td>10000.000000</td>\n",
       "      <td>10000.000000</td>\n",
       "    </tr>\n",
       "    <tr>\n",
       "      <th>mean</th>\n",
       "      <td>-0.008122</td>\n",
       "      <td>0.503310</td>\n",
       "      <td>1.996784</td>\n",
       "    </tr>\n",
       "    <tr>\n",
       "      <th>std</th>\n",
       "      <td>1.007485</td>\n",
       "      <td>0.289242</td>\n",
       "      <td>1.415051</td>\n",
       "    </tr>\n",
       "    <tr>\n",
       "      <th>min</th>\n",
       "      <td>-3.725188</td>\n",
       "      <td>0.000161</td>\n",
       "      <td>0.012819</td>\n",
       "    </tr>\n",
       "    <tr>\n",
       "      <th>25%</th>\n",
       "      <td>-0.696548</td>\n",
       "      <td>0.255613</td>\n",
       "      <td>0.965339</td>\n",
       "    </tr>\n",
       "    <tr>\n",
       "      <th>50%</th>\n",
       "      <td>-0.001367</td>\n",
       "      <td>0.502358</td>\n",
       "      <td>1.670762</td>\n",
       "    </tr>\n",
       "    <tr>\n",
       "      <th>75%</th>\n",
       "      <td>0.677690</td>\n",
       "      <td>0.756046</td>\n",
       "      <td>2.683944</td>\n",
       "    </tr>\n",
       "    <tr>\n",
       "      <th>max</th>\n",
       "      <td>3.906476</td>\n",
       "      <td>0.999907</td>\n",
       "      <td>12.542317</td>\n",
       "    </tr>\n",
       "  </tbody>\n",
       "</table>\n",
       "</div>"
      ],
      "text/plain": [
       "             normal        random         gamma\n",
       "count  10000.000000  10000.000000  10000.000000\n",
       "mean      -0.008122      0.503310      1.996784\n",
       "std        1.007485      0.289242      1.415051\n",
       "min       -3.725188      0.000161      0.012819\n",
       "25%       -0.696548      0.255613      0.965339\n",
       "50%       -0.001367      0.502358      1.670762\n",
       "75%        0.677690      0.756046      2.683944\n",
       "max        3.906476      0.999907     12.542317"
      ]
     },
     "execution_count": 2,
     "metadata": {},
     "output_type": "execute_result"
    }
   ],
   "source": [
    "# Now we can use the pandas describe function to see some summary statistics about our data frame.\n",
    "# Each row has 10,000 entries. The mean values and standard deviation vary heavily.\n",
    "df.describe()"
   ]
  },
  {
   "cell_type": "markdown",
   "metadata": {},
   "source": [
    "This function shows the minimal and maximum values and three three different percentage values. These percentage values make up what's called the interquartile range. There are four different quarters of the data. The first is between the minimal value and the first 25% of the data. And this value of 25% is called the first quartile. The second quarter of data is between the 25% mark and the 50% of the data. The third between 50 and 75% of the data. And 75% mark is called the third quartile. And the final piece of data is between the 75% and the maximum of the data.\n",
    "\n",
    "Like standard deviation, the interquartile range is a measure of variability of data. And it's common to plot this using a box plot. In a box plot, the mean, or the median, of the data is plotted as a straight line. Two boxes are formed, one above, which represents the 50% to 75% data group, and one below, which represents the 25% to 50% data group. Thin lines are then drawn out to the minimum and maximum values."
   ]
  },
  {
   "cell_type": "code",
   "execution_count": 3,
   "metadata": {},
   "outputs": [
    {
     "data": {
      "text/plain": [
       "{'whiskers': [<matplotlib.lines.Line2D at 0x768f1211bcd0>,\n",
       "  <matplotlib.lines.Line2D at 0x768f1211bf70>],\n",
       " 'caps': [<matplotlib.lines.Line2D at 0x768f120b6250>,\n",
       "  <matplotlib.lines.Line2D at 0x768f120b64f0>],\n",
       " 'boxes': [<matplotlib.lines.Line2D at 0x768f1211ba30>],\n",
       " 'medians': [<matplotlib.lines.Line2D at 0x768f120b6790>],\n",
       " 'fliers': [<matplotlib.lines.Line2D at 0x768f120b6a30>],\n",
       " 'means': []}"
      ]
     },
     "execution_count": 3,
     "metadata": {},
     "output_type": "execute_result"
    },
    {
     "data": {
      "image/png": "[encoded data removed]",
      "text/plain": [
       "<Figure size 432x288 with 1 Axes>"
      ]
     },
     "metadata": {
      "needs_background": "light"
     },
     "output_type": "display_data"
    }
   ],
   "source": [
    "# To see a boxplot we just choose the column of the dataframe we are interested in and pass it\n",
    "# to pyplot's boxplot function. matplotlib uses numpy arrays for data, but since pandas is built\n",
    "# on top of numpy things work fluidly\n",
    "plt.boxplot(df['normal'])"
   ]
  },
  {
   "cell_type": "markdown",
   "metadata": {},
   "source": [
    "You'll see that matplotlib actually prints out a bunch of information about artists. Often we don't really want to see this, but it can be handy at times. To supress this we simply put a semicolon at the end of our last statement. This is a Jupyter notebook trick that I've actually used a few times and haven't told you about -- it supresses printing the last variable in a cell. Be warned, it's not standard python!"
   ]
  },
  {
   "cell_type": "code",
   "execution_count": 4,
   "metadata": {},
   "outputs": [
    {
     "data": {
      "image/png": "[encoded data removed]",
      "text/plain": [
       "<Figure size 432x288 with 1 Axes>"
      ]
     },
     "metadata": {
      "needs_background": "light"
     },
     "output_type": "display_data"
    }
   ],
   "source": [
    "# Now just the image\n",
    "plt.boxplot(df['normal']);"
   ]
  },
  {
   "cell_type": "markdown",
   "metadata": {},
   "source": [
    "Great, this gives us a basic box plot. Now let's add the other two samples to it. Unfortunately we can't just pass a whole pandas data frame to matplotlib. Instead we need to pull out each column and send them in as a list of values. "
   ]
  },
  {
   "cell_type": "code",
   "execution_count": 5,
   "metadata": {
    "scrolled": true
   },
   "outputs": [
    {
     "data": {
      "image/png": "[encoded data removed]",
      "text/plain": [
       "<Figure size 432x288 with 1 Axes>"
      ]
     },
     "metadata": {
      "needs_background": "light"
     },
     "output_type": "display_data"
    }
   ],
   "source": [
    "# plot boxplots for all three of df's columns\n",
    "plt.boxplot([ df['normal'], df['random'], df['gamma'] ], whis=[0,100]);"
   ]
  },
  {
   "cell_type": "markdown",
   "metadata": {},
   "source": [
    "All right, that gives us our three distributions. Now, we didn't normalize the scale, so that's a little wonky. But if we look at the gamma distribution, for instance, we see the tail of it is very, very long. So the maximum values are very far out. Let's take a look at this by itself in a histogram."
   ]
  },
  {
   "cell_type": "code",
   "execution_count": 6,
   "metadata": {},
   "outputs": [
    {
     "data": {
      "image/png": "[encoded data removed]",
      "text/plain": [
       "<Figure size 432x288 with 1 Axes>"
      ]
     },
     "metadata": {
      "needs_background": "light"
     },
     "output_type": "display_data"
    }
   ],
   "source": [
    "plt.hist(df['gamma'], bins=100);"
   ]
  },
  {
   "cell_type": "markdown",
   "metadata": {},
   "source": [
    "Interesting, we see it starts at a moderate level, spikes up, then drops off much more gradually and does indeed have a very long tail. Let's add this to our box plot, and I'm going to take this as an opportunity to demonstrate something called **inset axes**.\n",
    "\n",
    "Recall that we have one figure with one subplot. Since we didn't do anything fancy with subplots, that means we only have one axes object. We can actually overlay an axes on top of another within a figure. We do this by calling the `inset_axes` function on the figure and sending in details of the new axes that we want to create. The details we send are a position in x/y space and the width and height of the new plot."
   ]
  },
  {
   "cell_type": "code",
   "execution_count": 7,
   "metadata": {},
   "outputs": [
    {
     "data": {
      "image/png": "[encoded data removed]",
      "text/plain": [
       "<Figure size 648x648 with 1 Axes>"
      ]
     },
     "metadata": {
      "needs_background": "light"
     },
     "output_type": "display_data"
    }
   ],
   "source": [
    "plt.figure(figsize=(9,9))\n",
    "# Our main figure is our boxplot\n",
    "plt.boxplot([ df['normal'], df['random'], df['gamma'] ], whis=[0,100])\n",
    "# Now let's plot on that axes a new axes object! This will be overlayed on\n",
    "# top, and we provide a bounding box of (0,0.6) as the bottom left, and \n",
    "# (0.6,0.4) as width and height. These are ratios of the ax object\n",
    "ax2 = plt.gca().inset_axes([0,0.6,0.6,0.4])\n",
    "# Now we can just plot our histogram right on there\n",
    "ax2.hist(df['gamma'], bins=100, density=True)\n",
    "# And since the histogram will have tick labels on the left and clash with\n",
    "# the main figure, we can flip them to the right\n",
    "ax2.yaxis.tick_right();"
   ]
  },
  {
   "cell_type": "markdown",
   "metadata": {},
   "source": [
    "Pretty cool, isn't it? So in one figure here we have our boxplots of three distributions, and then we have a nice little inset image showing the histogram of the far right boxplot.\n",
    "\n",
    "Remember again that each boxplot is our five number summary -- a median line in red in the middle, then two boxes on either side of that which represent 25% of the population respectively, then whiskers which run out to the maximum and minimums of the data. This would be a great time to pause the video and play with the notebook, to clean up this figure by adding titles, legends, and the like. How would you make it clear to the reader that the inset histogram is about the boxplot on the far right, for instance?"
   ]
  },
  {
   "cell_type": "markdown",
   "metadata": {},
   "source": [
    "Now, we often want to look at a boxplot not by seeing the maximum and minimum values but instead by emphasizing outliers. \n",
    "How outliers are detected really depends, and there are various mechanisms to determine whether an observation is an outlier or not. If we look at the documentation though, the default for matplotlib is that outliers are all data points which are either greater than or less than the distance between the hinge (the bottom or top of the box, or first and third quartile), and 1.5 * the inter-quartile range (IQR). The interquartile range is the distance between the two hinges, which captures 50% of our data. So if we omit the `whis` parameter to the boxplot call we'll see the outliers using this method plotted."
   ]
  },
  {
   "cell_type": "code",
   "execution_count": 8,
   "metadata": {},
   "outputs": [
    {
     "data": {
      "image/png": "[encoded data removed]",
      "text/plain": [
       "<Figure size 720x720 with 1 Axes>"
      ]
     },
     "metadata": {
      "needs_background": "light"
     },
     "output_type": "display_data"
    }
   ],
   "source": [
    "# Nice big figure\n",
    "plt.figure(figsize=(10,10))\n",
    "# Now with outliers\n",
    "plt.boxplot([ df['normal'], df['random'], df['gamma'] ]);"
   ]
  },
  {
   "cell_type": "markdown",
   "metadata": {},
   "source": [
    "Each circle in the boxplot is a single outlier observation. The box plot is one of the more common plots that you might use as a data scientist, and matplotlib has significant support for different kinds of box plots. Here the matplotlib documentation is key. You can find links in the course resources to the API, which describes the box plot functionality.\n",
    "\n",
    "I've got one more plot to show you this week - a two dimensional histogram which is better known as a heat map. Then we'll look at a couple more advance features of matplotlib."
   ]
  }
 ],
 "metadata": {
  "kernelspec": {
   "display_name": "Python 3 (ipykernel)",
   "language": "python",
   "name": "python3"
  },
  "language_info": {
   "codemirror_mode": {
    "name": "ipython",
    "version": 3
   },
   "file_extension": ".py",
   "mimetype": "text/x-python",
   "name": "python",
   "nbconvert_exporter": "python",
   "pygments_lexer": "ipython3",
   "version": "3.8.10"
  }
 },
 "nbformat": 4,
 "nbformat_minor": 4
}
